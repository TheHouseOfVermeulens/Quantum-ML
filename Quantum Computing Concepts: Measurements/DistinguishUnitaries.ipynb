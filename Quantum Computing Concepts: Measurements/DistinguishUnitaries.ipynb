{
 "cells": [
  {
   "cell_type": "markdown",
   "metadata": {},
   "source": [
    "# Distinguish Unitaries Kata\n",
    "\n",
    "The **Distinguish Unitaries** quantum kata offers tasks in which you are given a unitary and have to figure out which of the list it is by designing and performing experiments on it.\n",
    "\n",
    "Each task is wrapped in one operation preceded by the description of the task.\n",
    "Your goal is to fill in the blank (marked with `// ...` comments)\n",
    "with some Q# code that solves the task. To verify your answer, run the cell using Ctrl+Enter (⌘+Enter on macOS).\n",
    "\n",
    "The tasks are given in approximate order of increasing difficulty; harder ones are marked with asterisks."
   ]
  },
  {
   "cell_type": "markdown",
   "metadata": {},
   "source": [
    "## Part I. Single-Qubit Gates"
   ]
  },
  {
   "cell_type": "markdown",
   "metadata": {},
   "source": [
    "### Task 1.1. Identity or Pauli X?\n",
    "\n",
    "**Input:** An operation that implements a single-qubit unitary transformation:\n",
    "either the identity (**I** gate)\n",
    "or the Pauli X gate (**X** gate). \n",
    "The operation will have Adjoint and Controlled variants defined.\n",
    "\n",
    "**Output:**  0 if the given operation is the **I** gate, 1 if the given operation is the **X** gate.\n",
    "\n",
    "You are allowed to apply the given operation and its adjoint/controlled variants exactly **once**."
   ]
  },
  {
   "cell_type": "code",
   "execution_count": 1,
   "metadata": {},
   "outputs": [
    {
     "data": {
      "application/x-qsharp-data": "\"Success!\"",
      "text/plain": [
       "Success!"
      ]
     },
     "execution_count": 1,
     "metadata": {},
     "output_type": "execute_result"
    }
   ],
   "source": [
    "%kata T101_DistinguishIfromX \n",
    "\n",
    "operation DistinguishIfromX (unitary : (Qubit => Unit is Adj+Ctl)) : Int {\n",
    "    // ...\n",
    "    use q = Qubit();\n",
    "    unitary(q);\n",
    "    return M(q) == Zero ? 0|1;\n",
    "}"
   ]
  },
  {
   "cell_type": "markdown",
   "metadata": {},
   "source": [
    "### Task 1.2. Identity or Pauli Z?\n",
    "\n",
    "**Input:** An operation that implements a single-qubit unitary transformation:\n",
    "either the identity (**I** gate)\n",
    "or the Pauli Z gate (**Z** gate). \n",
    "The operation will have Adjoint and Controlled variants defined.\n",
    "\n",
    "**Output:**  0 if the given operation is the **I** gate, 1 if the given operation is the **Z** gate.\n",
    "\n",
    "You are allowed to apply the given operation and its adjoint/controlled variants exactly **once**."
   ]
  },
  {
   "cell_type": "code",
   "execution_count": 2,
   "metadata": {},
   "outputs": [
    {
     "data": {
      "application/x-qsharp-data": "\"Success!\"",
      "text/plain": [
       "Success!"
      ]
     },
     "execution_count": 2,
     "metadata": {},
     "output_type": "execute_result"
    }
   ],
   "source": [
    "%kata T102_DistinguishIfromZ \n",
    "\n",
    "open Microsoft.Quantum.Measurement;\n",
    "\n",
    "operation DistinguishIfromZ (unitary : (Qubit => Unit is Adj+Ctl)) : Int {\n",
    "    // ...\n",
    "    use q = Qubit();\n",
    "    H(q);\n",
    "    unitary(q);\n",
    "    return MResetX(q) == Zero ? 0|1;\n",
    "}"
   ]
  },
  {
   "cell_type": "markdown",
   "metadata": {},
   "source": [
    "### Task 1.3. Z or S?\n",
    "\n",
    "**Input:** An operation that implements a single-qubit unitary transformation:\n",
    "either the **Z** gate\n",
    "or the **S** gate. \n",
    "The operation will have Adjoint and Controlled variants defined.\n",
    "\n",
    "**Output:**  0 if the given operation is the **Z** gate, 1 if the given operation is the **S** gate.\n",
    "\n",
    "You are allowed to apply the given operation and its adjoint/controlled variants at most **twice**."
   ]
  },
  {
   "cell_type": "code",
   "execution_count": 4,
   "metadata": {},
   "outputs": [
    {
     "data": {
      "application/x-qsharp-data": "\"Success!\"",
      "text/plain": [
       "Success!"
      ]
     },
     "execution_count": 4,
     "metadata": {},
     "output_type": "execute_result"
    }
   ],
   "source": [
    "%kata T103_DistinguishZfromS \n",
    "\n",
    "open Microsoft.Quantum.Measurement;\n",
    "\n",
    "operation DistinguishZfromS (unitary : (Qubit => Unit is Adj+Ctl)) : Int {\n",
    "    // ...\n",
    "    use q = Qubit();\n",
    "    H(q);\n",
    "    unitary(q);\n",
    "    unitary(q);\n",
    "    return MResetX(q) == Zero ? 0|1;\n",
    "}"
   ]
  },
  {
   "cell_type": "markdown",
   "metadata": {},
   "source": [
    "### Task 1.4. Hadamard or X?\n",
    "\n",
    "**Input:** An operation that implements a single-qubit unitary transformation:\n",
    "either the Hadamard (**H**) gate\n",
    "or the **X** gate. \n",
    "The operation will have Adjoint and Controlled variants defined.\n",
    "\n",
    "**Output:**  0 if the given operation is the **H** gate, 1 if the given operation is the **X** gate.\n",
    "\n",
    "You are allowed to apply the given operation and its adjoint/controlled variants at most **twice**."
   ]
  },
  {
   "cell_type": "code",
   "execution_count": 5,
   "metadata": {
    "scrolled": true
   },
   "outputs": [
    {
     "data": {
      "application/x-qsharp-data": "\"Success!\"",
      "text/plain": [
       "Success!"
      ]
     },
     "execution_count": 5,
     "metadata": {},
     "output_type": "execute_result"
    }
   ],
   "source": [
    "%kata T104_DistinguishHfromX \n",
    "\n",
    "operation DistinguishHfromX (unitary : (Qubit => Unit is Adj+Ctl)) : Int {\n",
    "    // ...\n",
    "    use q = Qubit();\n",
    "    within {\n",
    "        unitary(q);\n",
    "    } apply {\n",
    "        X(q);\n",
    "    }\n",
    "    return M(q) == Zero ? 0 | 1;\n",
    "}"
   ]
  },
  {
   "cell_type": "markdown",
   "metadata": {},
   "source": [
    "### Task 1.5. Z or $-$Z?\n",
    "\n",
    "**Input:** An operation that implements a single-qubit unitary transformation:\n",
    "either the **Z** gate\n",
    "or the minus **Z** gate (i.e., the gate $- |0\\rangle\\langle0| + |1\\rangle\\langle1|$). \n",
    "The operation will have Adjoint and Controlled variants defined.\n",
    "\n",
    "**Output:**  0 if the given operation is the **Z** gate, 1 if the given operation is the $-$**Z** gate.\n",
    "\n",
    "You are allowed to apply the given operation and its adjoint/controlled variants exactly **once**."
   ]
  },
  {
   "cell_type": "code",
   "execution_count": 6,
   "metadata": {},
   "outputs": [
    {
     "data": {
      "application/x-qsharp-data": "\"Success!\"",
      "text/plain": [
       "Success!"
      ]
     },
     "execution_count": 6,
     "metadata": {},
     "output_type": "execute_result"
    }
   ],
   "source": [
    "%kata T105_DistinguishZfromMinusZ\n",
    "\n",
    "open Microsoft.Quantum.Measurement;\n",
    "\n",
    "operation DistinguishZfromMinusZ (unitary : (Qubit => Unit is Adj+Ctl)) : Int {\n",
    "    use qs = Qubit[2];\n",
    "    // prep (|0⟩ + |1⟩) ⊗ |0⟩\n",
    "    H(qs[0]);\n",
    "\n",
    "    Controlled unitary(qs[0..0], qs[1]);\n",
    "\n",
    "    return MResetX(qs[0]) == Zero ? 0 | 1;\n",
    "}"
   ]
  },
  {
   "cell_type": "markdown",
   "metadata": {},
   "source": [
    "### Task 1.6. Rz or R1 (arbitrary angle)?\n",
    "\n",
    "**Input:** An operation that implements a single-qubit unitary transformation:\n",
    "either the [**Rz** gate](https://docs.microsoft.com/qsharp/api/qsharp/microsoft.quantum.intrinsic.rz)\n",
    "or the [**R1** gate](https://docs.microsoft.com/qsharp/api/qsharp/microsoft.quantum.intrinsic.r1). \n",
    "\n",
    "This operation will take two parameters: the first parameter is the rotation angle, in radians, and the second parameter is the qubit to which the gate should be applied (matching normal **Rz** and **R1** gates in Q#).\n",
    "The operation will have Adjoint and Controlled variants defined.\n",
    "\n",
    "**Output:**  0 if the given operation is the **Rz** gate, 1 if the given operation is the **R1** gate.\n",
    "\n",
    "You are allowed to apply the given operation and its adjoint/controlled variants exactly **once**."
   ]
  },
  {
   "cell_type": "code",
   "execution_count": 8,
   "metadata": {},
   "outputs": [
    {
     "data": {
      "application/x-qsharp-data": "\"Success!\"",
      "text/plain": [
       "Success!"
      ]
     },
     "execution_count": 8,
     "metadata": {},
     "output_type": "execute_result"
    }
   ],
   "source": [
    "%kata T106_DistinguishRzFromR1 \n",
    "\n",
    "open Microsoft.Quantum.Math;\n",
    "\n",
    "operation DistinguishRzFromR1 (unitary : ((Double, Qubit) => Unit is Adj+Ctl)) : Int {\n",
    "    // ...\n",
    "    use qs = Qubit[2];\n",
    "    within {\n",
    "        H(qs[0]);\n",
    "    } apply { \n",
    "        Controlled unitary(qs[0..0], (2.0 * PI(), qs[1]));\n",
    "    }\n",
    "    return M(qs[0]) == Zero ? 1 | 0;\n",
    "}"
   ]
  },
  {
   "cell_type": "markdown",
   "metadata": {},
   "source": [
    "### Task 1.7. Y or XZ?\n",
    "\n",
    "**Input:** An operation that implements a single-qubit unitary transformation:\n",
    "either the **Y** gate\n",
    "or the sequence of Pauli **Z** and Pauli **X** gates (equivalent to applying the **Z** gate followed by the **X** gate).\n",
    "The operation will have Adjoint and Controlled variants defined.\n",
    "\n",
    "**Output:**  0 if the given operation is the **Y** gate, 1 if the given operation is the **XZ** gate.\n",
    "\n",
    "You are allowed to apply the given operation and its adjoint/controlled variants at most **twice**."
   ]
  },
  {
   "cell_type": "code",
   "execution_count": 11,
   "metadata": {},
   "outputs": [
    {
     "data": {
      "application/x-qsharp-data": "\"Success!\"",
      "text/plain": [
       "Success!"
      ]
     },
     "execution_count": 11,
     "metadata": {},
     "output_type": "execute_result"
    }
   ],
   "source": [
    "%kata T107_DistinguishYfromXZ \n",
    "\n",
    "operation DistinguishYfromXZ (unitary : (Qubit => Unit is Adj+Ctl)) : Int {\n",
    "    // ...\n",
    "    use qs = Qubit[2];\n",
    "    // prep (|0⟩ + |1⟩) ⊗ |0⟩\n",
    "    within { H(qs[0]); }\n",
    "    apply {  \n",
    "        Controlled unitary(qs[0..0], qs[1]);\n",
    "        Controlled unitary(qs[0..0], qs[1]);\n",
    "    }\n",
    "    // 0 means it was Y\n",
    "    return M(qs[0]) == Zero ? 0 | 1;\n",
    "}\n"
   ]
  },
  {
   "cell_type": "markdown",
   "metadata": {},
   "source": [
    "### Task 1.8. Y, XZ, $-$Y or $-$XZ?\n",
    "\n",
    "**Input:** An operation that implements a single-qubit unitary transformation:\n",
    "either the **Y** gate (possibly with an extra global phase of $-1$) or the sequence of Pauli **Z** and Pauli **X** gates (possibly with an extra global phase of $-1$).\n",
    "The operation will have Adjoint and Controlled variants defined.\n",
    "\n",
    "**Output:** \n",
    "* 0 if the given operation is the **Y** gate,\n",
    "* 1 if the given operation is the $-$**XZ** gate,\n",
    "* 2 if the given operation is the $-$**Y** gate,\n",
    "* 3 if the given operation is the **XZ** gate.\n",
    "\n",
    "You are allowed to apply the given operation and its adjoint/controlled variants at most **three times**."
   ]
  },
  {
   "cell_type": "code",
   "execution_count": 12,
   "metadata": {},
   "outputs": [
    {
     "data": {
      "application/x-qsharp-data": "[\"OraclePowerWrapper\"]",
      "text/html": [
       "<ul><li>OraclePowerWrapper</li></ul>"
      ],
      "text/plain": [
       "OraclePowerWrapper"
      ]
     },
     "execution_count": 12,
     "metadata": {},
     "output_type": "execute_result"
    }
   ],
   "source": [
    "// Create a helper function:\n",
    "operation OraclePowerWrapper (U : (Qubit => Unit is Adj + Ctl), power : Int, target : Qubit[]) : Unit is Adj + Ctl {\n",
    "    for _ in 1 .. power {\n",
    "        U(target[0]);\n",
    "    }\n",
    "}"
   ]
  },
  {
   "cell_type": "code",
   "execution_count": 13,
   "metadata": {},
   "outputs": [
    {
     "data": {
      "application/x-qsharp-data": "\"Success!\"",
      "text/plain": [
       "Success!"
      ]
     },
     "execution_count": 13,
     "metadata": {},
     "output_type": "execute_result"
    }
   ],
   "source": [
    "%kata T108_DistinguishYfromXZWithPhases \n",
    "\n",
    "open Microsoft.Quantum.Arithmetic;\n",
    "open Microsoft.Quantum.Characterization;\n",
    "open Microsoft.Quantum.Oracles;\n",
    "\n",
    "operation DistinguishYfromXZWithPhases (unitary : (Qubit => Unit is Adj+Ctl)) : Int {\n",
    "    // Run phase estimation on the unitary and the +1 eigenstate of the Y gate |0⟩ + i|1⟩\n",
    "\n",
    "    // Construct a phase estimation oracle from the unitary\n",
    "    let oracle = DiscreteOracle(OraclePowerWrapper(unitary, _, _));\n",
    "\n",
    "    // Allocate qubits to hold the eigenstate of U and the phase in a big endian register \n",
    "    mutable phaseInt = 0;\n",
    "    use (eigenstate, phaseRegister) = (Qubit[1], Qubit[2]);\n",
    "    let phaseRegisterBE = BigEndian(phaseRegister);\n",
    "    // Prepare the eigenstate of U\n",
    "    H(eigenstate[0]); \n",
    "    S(eigenstate[0]);\n",
    "    \n",
    "    // Call library\n",
    "    QuantumPhaseEstimation(oracle, eigenstate, phaseRegisterBE);\n",
    "    // Read out the phase\n",
    "    set phaseInt = MeasureInteger(BigEndianAsLittleEndian(phaseRegisterBE));\n",
    "    \n",
    "    ResetAll(eigenstate);\n",
    "    ResetAll(phaseRegister);\n",
    "\n",
    "    // Convert the measured phase into return value\n",
    "    return phaseInt;\n",
    "\n",
    "}"
   ]
  },
  {
   "cell_type": "markdown",
   "metadata": {},
   "source": [
    "### Task 1.9. Rz or Ry (fixed angle)?\n",
    "\n",
    "**Inputs:** \n",
    "\n",
    "1. An angle $\\theta \\in [0.01 \\pi; 0.99 \\pi]$.\n",
    "2. An operation that implements a single-qubit unitary transformation:\n",
    "either the [$R_z(\\theta)$ gate](https://docs.microsoft.com/qsharp/api/qsharp/microsoft.quantum.intrinsic.rz)\n",
    "or the [$R_y(\\theta)$ gate](https://docs.microsoft.com/qsharp/api/qsharp/microsoft.quantum.intrinsic.ry). \n",
    "\n",
    "The operation will have Adjoint and Controlled variants defined.\n",
    "\n",
    "**Output:**  0 if the given operation is the **Rz** gate, 1 if the given operation is the **Ry** gate.\n",
    "\n",
    "You are allowed to apply the given operation and its adjoint/controlled variants **any number of times**."
   ]
  },
  {
   "cell_type": "code",
   "execution_count": 14,
   "metadata": {
    "scrolled": true
   },
   "outputs": [
    {
     "data": {
      "application/x-qsharp-data": "[\"ComputeRepetitions\"]",
      "text/html": [
       "<ul><li>ComputeRepetitions</li></ul>"
      ],
      "text/plain": [
       "ComputeRepetitions"
      ]
     },
     "execution_count": 14,
     "metadata": {},
     "output_type": "execute_result"
    }
   ],
   "source": [
    "\n",
    "open Microsoft.Quantum.Convert;\n",
    "open Microsoft.Quantum.Math;\n",
    "\n",
    "function ComputeRepetitions(angle : Double, offset : Int, accuracy : Double) : Int {\n",
    "    mutable pifactor = 0;\n",
    "    while (true) {\n",
    "        let pimultiple = PI() * IntAsDouble(2 * pifactor + offset);\n",
    "        let times = Round(pimultiple / angle);\n",
    "        if (AbsD(pimultiple - (IntAsDouble(times) * angle)) / PI() < accuracy) {\n",
    "            return times;\n",
    "        }\n",
    "        set pifactor += 1;\n",
    "    }\n",
    "    return 0;\n",
    "}"
   ]
  },
  {
   "cell_type": "code",
   "execution_count": 16,
   "metadata": {},
   "outputs": [
    {
     "data": {
      "application/x-qsharp-data": "\"Success!\"",
      "text/plain": [
       "Success!"
      ]
     },
     "execution_count": 16,
     "metadata": {},
     "output_type": "execute_result"
    }
   ],
   "source": [
    "%kata T109_DistinguishRzFromRy\n",
    "\n",
    "open Microsoft.Quantum.Measurement;\n",
    "\n",
    "operation DistinguishRzFromRy (theta : Double, unitary : (Qubit => Unit is Adj+Ctl)) : Int {\n",
    "    use q = Qubit();\n",
    "    let times = ComputeRepetitions(theta, 1, 0.1);\n",
    "    mutable attempt = 1;\n",
    "    mutable measuredOne = false;\n",
    "    repeat {\n",
    "        for _ in 1..times {\n",
    "            unitary(q);\n",
    "        }\n",
    "        // for Rz, we'll never venture away from |0⟩ state, so as soon as we got |1⟩ we know it's not Rz\n",
    "        if (MResetZ(q) == One) {\n",
    "            set measuredOne = true;\n",
    "        }\n",
    "        // if we try several times and still only get |0⟩s, chances are that it is Rz\n",
    "    } until (attempt == 4 or measuredOne) \n",
    "    fixup {\n",
    "        set attempt += 1;\n",
    "    }\n",
    "    return measuredOne ? 1 | 0;\n",
    "}"
   ]
  },
  {
   "cell_type": "markdown",
   "metadata": {},
   "source": [
    "### Task 1.10*. Rz or R1 (fixed angle)?\n",
    "\n",
    "**Inputs:** \n",
    "\n",
    "1. An angle $\\theta \\in [0.01 \\pi; 0.99 \\pi]$.\n",
    "2. An operation that implements a single-qubit unitary transformation:\n",
    "either the [$R_z(\\theta)$ gate](https://docs.microsoft.com/qsharp/api/qsharp/microsoft.quantum.intrinsic.rz)\n",
    "or the [$R_1(\\theta)$ gate](https://docs.microsoft.com/qsharp/api/qsharp/microsoft.quantum.intrinsic.r1). \n",
    "\n",
    "The operation will have Adjoint and Controlled variants defined.\n",
    "\n",
    "**Output:**  0 if the given operation is the **Rz** gate, 1 if the given operation is the **R1** gate.\n",
    "\n",
    "You are allowed to apply the given operation and its adjoint/controlled variants **any number of times**."
   ]
  },
  {
   "cell_type": "code",
   "execution_count": 18,
   "metadata": {
    "scrolled": true
   },
   "outputs": [
    {
     "data": {
      "application/x-qsharp-data": "[]",
      "text/html": [
       "<ul></ul>"
      ],
      "text/plain": []
     },
     "execution_count": 18,
     "metadata": {},
     "output_type": "execute_result"
    }
   ],
   "source": [
    "//%kata T110_DistinguishRzFromR1WithAngle \n",
    "\n",
    "//operation DistinguishRzFromR1WithAngle (theta : Double, unitary : (Qubit => Unit is Adj+Ctl)) : Int {\n",
    "    // "
   ]
  },
  {
   "cell_type": "markdown",
   "metadata": {},
   "source": [
    "### Task 1.11. Distinguish 4 Pauli unitaries\n",
    "\n",
    "**Input:** An operation that implements a single-qubit unitary transformation:\n",
    "either the identity (**I** gate) or one of the Pauli gates (**X**, **Y** or **Z** gate).\n",
    "The operation will have Adjoint and Controlled variants defined.\n",
    "\n",
    "**Output:** \n",
    "* 0 if the given operation is the **I** gate,\n",
    "* 1 if the given operation is the **X** gate,\n",
    "* 2 if the given operation is the **Y** gate,\n",
    "* 3 if the given operation is the **Z** gate.\n",
    "\n",
    "You are allowed to apply the given operation and its adjoint/controlled variants exactly **once**."
   ]
  },
  {
   "cell_type": "code",
   "execution_count": 19,
   "metadata": {
    "scrolled": true
   },
   "outputs": [
    {
     "data": {
      "application/x-qsharp-data": "\"Success!\"",
      "text/plain": [
       "Success!"
      ]
     },
     "execution_count": 19,
     "metadata": {},
     "output_type": "execute_result"
    }
   ],
   "source": [
    "%kata T111_DistinguishPaulis \n",
    "\n",
    "operation DistinguishPaulis (unitary : (Qubit => Unit is Adj+Ctl)) : Int {\n",
    "    // apply operation to the 1st qubit of a Bell state and measure in Bell basis\n",
    "    use qs = Qubit[2];\n",
    "    within {\n",
    "        H(qs[0]);\n",
    "        CNOT(qs[0], qs[1]);\n",
    "    } apply {\n",
    "        unitary(qs[0]);\n",
    "    }\n",
    "    \n",
    "    // after this I -> 00, X -> 01, Y -> 11, Z -> 10\n",
    "    let ind = MeasureInteger(LittleEndian(qs));\n",
    "    let returnValues = [0, 3, 1, 2];\n",
    "    return returnValues[ind];\n",
    "}"
   ]
  },
  {
   "cell_type": "markdown",
   "metadata": {},
   "source": [
    "## Part II. Multi-Qubit Gates"
   ]
  },
  {
   "cell_type": "markdown",
   "metadata": {},
   "source": [
    "### Task 2.1. $I \\otimes X$ or $\\text{CNOT}$?\n",
    "\n",
    "**Input:** An operation that implements a two-qubit unitary transformation:\n",
    "either the $I \\otimes X$ (the X gate applied to the second qubit)\n",
    "or the $\\text{CNOT}$ gate with the first qubit as control and the second qubit as target.\n",
    "* The operation will accept an array of qubits as input, but it will fail if the array is empty or has one or more than two qubits.\n",
    "* The operation will have Adjoint and Controlled variants defined.\n",
    "\n",
    "**Output:**  0 if the given operation is $I \\otimes X$, 1 if the given operation is the $\\text{CNOT}$ gate.\n",
    "\n",
    "You are allowed to apply the given operation and its adjoint/controlled variants exactly **once**."
   ]
  },
  {
   "cell_type": "code",
   "execution_count": 20,
   "metadata": {},
   "outputs": [
    {
     "data": {
      "application/x-qsharp-data": "\"Success!\"",
      "text/plain": [
       "Success!"
      ]
     },
     "execution_count": 20,
     "metadata": {},
     "output_type": "execute_result"
    }
   ],
   "source": [
    "%kata T201_DistinguishIXfromCNOT\n",
    "\n",
    "open Microsoft.Quantum.Measurement;\n",
    "\n",
    "operation DistinguishIXfromCNOT (unitary : (Qubit[] => Unit is Adj+Ctl)) : Int {\n",
    "    use qs = Qubit[2];\n",
    "    unitary(qs);\n",
    "    return MResetZ(qs[1]) == One ? 0 | 1;\n",
    "}"
   ]
  },
  {
   "cell_type": "markdown",
   "metadata": {},
   "source": [
    "### Task 2.2. Figure out the direction of $\\text{CNOT}$\n",
    "\n",
    "**Input:** An operation that implements a two-qubit unitary transformation:\n",
    "either the $\\text{CNOT}$ gate with the first qubit as control and the second qubit as target ($\\text{CNOT}_{12}$)\n",
    "or the $\\text{CNOT}$ gate with the second qubit as control and the first qubit as target ($\\text{CNOT}_{21}$).\n",
    "* The operation will accept an array of qubits as input, but it will fail if the array is empty or has one or more than two qubits.\n",
    "* The operation will have Adjoint and Controlled variants defined.\n",
    "\n",
    "**Output:**  0 if the given operation is $\\text{CNOT}_{12}$, 1 if the given operation is $\\text{CNOT}_{21}$.\n",
    "\n",
    "You are allowed to apply the given operation and its adjoint/controlled variants exactly **once**."
   ]
  },
  {
   "cell_type": "code",
   "execution_count": 21,
   "metadata": {
    "scrolled": true
   },
   "outputs": [
    {
     "data": {
      "application/x-qsharp-data": "\"Success!\"",
      "text/plain": [
       "Success!"
      ]
     },
     "execution_count": 21,
     "metadata": {},
     "output_type": "execute_result"
    }
   ],
   "source": [
    "%kata T202_CNOTDirection\n",
    "\n",
    "operation CNOTDirection (unitary : (Qubit[] => Unit is Adj+Ctl)) : Int {\n",
    "    use qs = Qubit[2];\n",
    "    within { X(qs[1]); }\n",
    "    apply { unitary(qs); }\n",
    "    return M(qs[0]) == Zero ? 0 | 1;\n",
    "}"
   ]
  },
  {
   "cell_type": "markdown",
   "metadata": {},
   "source": [
    "### Task 2.3. $\\text{CNOT}_{12}$ or $\\text{SWAP}$?\n",
    "\n",
    "**Input:** An operation that implements a two-qubit unitary transformation:\n",
    "either the $\\text{CNOT}$ gate with the first qubit as control and the second qubit as target ($\\text{CNOT}_{12}$)\n",
    "or the $SWAP$ gate.\n",
    "* The operation will accept an array of qubits as input, but it will fail if the array is empty or has one or more than two qubits.\n",
    "* The operation will have Adjoint and Controlled variants defined.\n",
    "\n",
    "**Output:**  0 if the given operation is $\\text{CNOT}_{12}$, 1 if the given operation is $\\text{SWAP}$.\n",
    "\n",
    "You are allowed to apply the given operation and its adjoint/controlled variants exactly **once**."
   ]
  },
  {
   "cell_type": "code",
   "execution_count": 22,
   "metadata": {
    "scrolled": false
   },
   "outputs": [
    {
     "data": {
      "application/x-qsharp-data": "\"Success!\"",
      "text/plain": [
       "Success!"
      ]
     },
     "execution_count": 22,
     "metadata": {},
     "output_type": "execute_result"
    }
   ],
   "source": [
    "%kata T203_DistinguishCNOTfromSWAP\n",
    "\n",
    "operation DistinguishCNOTfromSWAP (unitary : (Qubit[] => Unit is Adj+Ctl)) : Int {\n",
    "    use qs = Qubit[2];\n",
    "    X(qs[1]);\n",
    "    unitary(qs);\n",
    "    Reset(qs[1]);\n",
    "    return M(qs[0]) == Zero ? 0 | 1;\n",
    "}"
   ]
  },
  {
   "cell_type": "markdown",
   "metadata": {},
   "source": [
    "### Task 2.4. Identity, $\\text{CNOT}$s or $\\text{SWAP}$?\n",
    "\n",
    "**Input:** An operation that implements a two-qubit unitary transformation:\n",
    "either the identity ($I \\otimes I$), the $\\text{CNOT}$ gate with one of the qubits as control and the other qubit as a target, \n",
    "or the $SWAP$ gate.\n",
    "* The operation will accept an array of qubits as input, but it will fail if the array is empty or has one or more than two qubits.\n",
    "* The operation will have Adjoint and Controlled variants defined.\n",
    "\n",
    "**Output:**  \n",
    "\n",
    "* 0 if the given operation is $I \\otimes I$, \n",
    "* 1 if the given operation is $\\text{CNOT}_{12}$,\n",
    "* 2 if the given operation is $\\text{CNOT}_{21}$,\n",
    "* 3 if the given operation is $\\text{SWAP}$.\n",
    "\n",
    "You are allowed to apply the given operation and its adjoint/controlled variants at most **twice**."
   ]
  },
  {
   "cell_type": "code",
   "execution_count": 23,
   "metadata": {
    "scrolled": false
   },
   "outputs": [
    {
     "data": {
      "application/x-qsharp-data": "\"Success!\"",
      "text/plain": [
       "Success!"
      ]
     },
     "execution_count": 23,
     "metadata": {},
     "output_type": "execute_result"
    }
   ],
   "source": [
    "%kata T204_DistinguishTwoQubitUnitaries\n",
    "\n",
    "open Microsoft.Quantum.Arithmetic;\n",
    "\n",
    "operation DistinguishTwoQubitUnitaries (unitary : (Qubit[] => Unit is Adj+Ctl)) : Int {\n",
    "    // first run: apply to |11⟩; CNOT₁₂ will give |10⟩, CNOT₂₁ will give |01⟩, II and SWAP will remain |11⟩\n",
    "    use qs = Qubit[2];\n",
    "    ApplyToEach(X, qs);\n",
    "    unitary(qs);\n",
    "    let ind1 = MeasureInteger(LittleEndian(qs));\n",
    "\n",
    "    // second run: distinguish II from SWAP, apply to |01⟩: II will remain |01⟩, SWAP will become |10⟩\n",
    "    X(qs[1]);\n",
    "    unitary(qs);\n",
    "    let ind2 = MeasureInteger(LittleEndian(qs));\n",
    "\n",
    "    if ind1 == 1 or ind1 == 2 {\n",
    "        // respective CNOT\n",
    "        return ind1;\n",
    "    } else {\n",
    "        return ind2 == 1 ? 3 | 0;\n",
    "    }\n",
    "}"
   ]
  }
 ],
 "metadata": {
  "kernelspec": {
   "display_name": "Q#",
   "language": "qsharp",
   "name": "iqsharp"
  },
  "language_info": {
   "file_extension": ".qs",
   "mimetype": "text/x-qsharp",
   "name": "qsharp",
   "version": "0.14"
  }
 },
 "nbformat": 4,
 "nbformat_minor": 2
}
